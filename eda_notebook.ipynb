{
 "cells": [
  {
   "cell_type": "code",
   "execution_count": 1,
   "id": "320edb92",
   "metadata": {},
   "outputs": [],
   "source": [
    "import logging\n",
    "from src.process_yaml_functions import get_and_open_yaml_config"
   ]
  },
  {
   "cell_type": "markdown",
   "id": "013d9797",
   "metadata": {},
   "source": [
    "# Animals"
   ]
  },
  {
   "cell_type": "code",
   "execution_count": 2,
   "id": "09e29e20",
   "metadata": {},
   "outputs": [],
   "source": [
    "animal_dict = get_and_open_yaml_config('words_for_animals')"
   ]
  },
  {
   "cell_type": "markdown",
   "id": "1b20e22c",
   "metadata": {},
   "source": [
    "### What is the word for kangaroos?"
   ]
  },
  {
   "cell_type": "code",
   "execution_count": 3,
   "id": "c06bac64",
   "metadata": {},
   "outputs": [
    {
     "data": {
      "text/plain": [
       "['les kangourou', 'i canguri']"
      ]
     },
     "execution_count": 3,
     "metadata": {},
     "output_type": "execute_result"
    }
   ],
   "source": [
    "animal_dict['kangaroo']['plural']"
   ]
  },
  {
   "cell_type": "markdown",
   "id": "39d77cc9",
   "metadata": {},
   "source": [
    "## Objects\n"
   ]
  },
  {
   "cell_type": "code",
   "execution_count": 4,
   "id": "3133635d",
   "metadata": {},
   "outputs": [],
   "source": [
    "kitchen_objects_dict = get_and_open_yaml_config('words_for_objects')"
   ]
  },
  {
   "cell_type": "code",
   "execution_count": 5,
   "id": "98989e37",
   "metadata": {},
   "outputs": [
    {
     "name": "stdout",
     "output_type": "stream",
     "text": [
      "Please put the ['la forchette', 'la forchetta'] in the [\"l'évier\", 'il lavandino'].\n"
     ]
    }
   ],
   "source": [
    "# logging.info(f\"Please put the {kitchen_objects_dict['kitchen']['fork']} in the {kitchen_objects_dict['kitchen']['sink']}.\")\n",
    "\n",
    "print(f\"Please put the {kitchen_objects_dict['kitchen']['fork']} in the {kitchen_objects_dict['kitchen']['sink']}.\")"
   ]
  }
 ],
 "metadata": {
  "kernelspec": {
   "display_name": "Python 3",
   "language": "python",
   "name": "python3"
  },
  "language_info": {
   "codemirror_mode": {
    "name": "ipython",
    "version": 3
   },
   "file_extension": ".py",
   "mimetype": "text/x-python",
   "name": "python",
   "nbconvert_exporter": "python",
   "pygments_lexer": "ipython3",
   "version": "3.12.10"
  }
 },
 "nbformat": 4,
 "nbformat_minor": 5
}
