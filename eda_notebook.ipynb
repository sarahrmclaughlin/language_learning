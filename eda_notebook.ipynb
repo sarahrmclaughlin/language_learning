{
 "cells": [
  {
   "cell_type": "code",
   "execution_count": 2,
   "id": "320edb92",
   "metadata": {},
   "outputs": [],
   "source": [
    "import yaml \n",
    "from pathlib import Path\n"
   ]
  },
  {
   "cell_type": "code",
   "execution_count": 3,
   "id": "09e29e20",
   "metadata": {},
   "outputs": [],
   "source": [
    "config_path = Path('configs')/'words_for_animals.yaml'\n",
    "\n",
    "\n",
    "with open(config_path, 'r') as file:\n",
    "    config = yaml.safe_load(file)"
   ]
  },
  {
   "cell_type": "code",
   "execution_count": 5,
   "id": "c06bac64",
   "metadata": {},
   "outputs": [
    {
     "name": "stdout",
     "output_type": "stream",
     "text": [
      "{'kangaroo': {'singular': ['le kangourou', 'il canguro'], 'plural': ['les kangourou', 'i canguri']}, 'shark': {'singular': ['le requin', 'lo squalo'], 'plural': ['les requins', 'gli squali']}, 'giraffe': {'singular': ['la girafe', 'la giraffa'], 'plural': ['les girafes', 'le giraffe']}}\n"
     ]
    }
   ],
   "source": [
    "print(config)"
   ]
  },
  {
   "cell_type": "code",
   "execution_count": null,
   "id": "e3858ef2",
   "metadata": {},
   "outputs": [],
   "source": []
  }
 ],
 "metadata": {
  "kernelspec": {
   "display_name": ".venv (3.10.17)",
   "language": "python",
   "name": "python3"
  },
  "language_info": {
   "codemirror_mode": {
    "name": "ipython",
    "version": 3
   },
   "file_extension": ".py",
   "mimetype": "text/x-python",
   "name": "python",
   "nbconvert_exporter": "python",
   "pygments_lexer": "ipython3",
   "version": "3.10.17"
  }
 },
 "nbformat": 4,
 "nbformat_minor": 5
}
