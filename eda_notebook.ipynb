{
 "cells": [
  {
   "cell_type": "code",
   "execution_count": 1,
   "id": "320edb92",
   "metadata": {},
   "outputs": [],
   "source": [
    "from src.process_yaml_functions import get_and_open_yaml_config"
   ]
  },
  {
   "cell_type": "markdown",
   "id": "013d9797",
   "metadata": {},
   "source": [
    "# Animals"
   ]
  },
  {
   "cell_type": "code",
   "execution_count": 2,
   "id": "09e29e20",
   "metadata": {},
   "outputs": [],
   "source": [
    "config = get_and_open_yaml_config('words_for_animals')"
   ]
  },
  {
   "cell_type": "markdown",
   "id": "1b20e22c",
   "metadata": {},
   "source": [
    "### What is the word for kangaroos?"
   ]
  },
  {
   "cell_type": "code",
   "execution_count": 3,
   "id": "c06bac64",
   "metadata": {},
   "outputs": [
    {
     "data": {
      "text/plain": [
       "['les kangourou', 'i canguri']"
      ]
     },
     "execution_count": 3,
     "metadata": {},
     "output_type": "execute_result"
    }
   ],
   "source": [
    "config['kangaroo']['plural']"
   ]
  }
 ],
 "metadata": {
  "kernelspec": {
   "display_name": ".venv (3.12.10)",
   "language": "python",
   "name": "python3"
  },
  "language_info": {
   "codemirror_mode": {
    "name": "ipython",
    "version": 3
   },
   "file_extension": ".py",
   "mimetype": "text/x-python",
   "name": "python",
   "nbconvert_exporter": "python",
   "pygments_lexer": "ipython3",
   "version": "3.12.10"
  }
 },
 "nbformat": 4,
 "nbformat_minor": 5
}
